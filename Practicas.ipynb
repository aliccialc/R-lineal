{
  "nbformat": 4,
  "nbformat_minor": 0,
  "metadata": {
    "colab": {
      "name": "Practicas.ipynb",
      "provenance": [],
      "authorship_tag": "ABX9TyO52BpvYU+JtWHdkTdaWNq6",
      "include_colab_link": true
    },
    "kernelspec": {
      "name": "python3",
      "display_name": "Python 3"
    },
    "language_info": {
      "name": "python"
    }
  },
  "cells": [
    {
      "cell_type": "markdown",
      "metadata": {
        "id": "view-in-github",
        "colab_type": "text"
      },
      "source": [
        "<a href=\"https://colab.research.google.com/github/aliccialc/R-lineal/blob/master/Practicas.ipynb\" target=\"_parent\"><img src=\"https://colab.research.google.com/assets/colab-badge.svg\" alt=\"Open In Colab\"/></a>"
      ]
    },
    {
      "cell_type": "markdown",
      "source": [
        "Ejemplo de instrucciones simples y compuestas:"
      ],
      "metadata": {
        "id": "kovWuFLDrqBn"
      }
    },
    {
      "cell_type": "code",
      "source": [
        "#Instrucciones simples Ejemplo:\n",
        "b = 12\n",
        "c = (2 + 2 + 8)\n",
        "a = 'Hola'\n",
        "print (a)\n",
        "\n",
        "#Instrucciones compuestas Ejemplo:\n",
        "\n",
        "if b == c:\n",
        "    print (a)"
      ],
      "metadata": {
        "colab": {
          "base_uri": "https://localhost:8080/"
        },
        "id": "LPTMLmvbsq-V",
        "outputId": "c2483000-c939-4fdc-9216-0f3eed828e0a"
      },
      "execution_count": 1,
      "outputs": [
        {
          "output_type": "stream",
          "name": "stdout",
          "text": [
            "Hola\n",
            "Hola\n"
          ]
        }
      ]
    },
    {
      "cell_type": "code",
      "source": [
        "#Declaración de variables\n",
        "\n",
        "a = \"Python\" #Instrucción simple\n",
        "b = \"Aprender\" #Instrucción simple\n",
        "c = \"Fácil\" #Instrucción simple\n",
        "d = \"Sintaxis\" #Instrucción simple\n",
        "e = False #Instrucción simple\n",
        "\n",
        "#Bloque de código a continuación\n",
        "if e == True: #Instrucción compuesta\n",
        "    print(b + \" \" + a + \" es \" + c + \" \"+ \"si comprendo su \" + d)\n",
        "    print (\"Se acaba de ejecutar una instrucción compuesta..\")\n",
        "    #Sub-nivel Inst.Simple dentro de un bloque\n",
        "\n",
        "#Instrucciones simples nuevamente\n",
        "\n",
        "print (\"Pero ahora estamos ejecutando instrucciones simples..\")\n",
        "print (\"Simplemente una tras otra.\")"
      ],
      "metadata": {
        "colab": {
          "base_uri": "https://localhost:8080/"
        },
        "id": "JKpMUzpotXjN",
        "outputId": "a0e45174-50fb-47c9-9f90-246f10c3881d"
      },
      "execution_count": 2,
      "outputs": [
        {
          "output_type": "stream",
          "name": "stdout",
          "text": [
            "Pero ahora estamos ejecutando instrucciones simples..\n",
            "Simplemente una tras otra.\n"
          ]
        }
      ]
    },
    {
      "cell_type": "markdown",
      "source": [
        "Declaración y llamada de una función:\n",
        "*   parámetro > operación > datos de salida\n",
        "*   argumento > función > resultado\n",
        "\n",
        "\n"
      ],
      "metadata": {
        "id": "Lbdt5QpdxEK3"
      }
    },
    {
      "cell_type": "code",
      "source": [
        "def Suma(parametro1, parametro2):\n",
        "    Resultado = parametro1 + parametro2\n",
        "\n",
        "Suma(1, 2)"
      ],
      "metadata": {
        "id": "VADu2DcrxF14"
      },
      "execution_count": 9,
      "outputs": []
    },
    {
      "cell_type": "markdown",
      "source": [
        "Sintaxis de una función"
      ],
      "metadata": {
        "id": "UiesZ75c8MRw"
      }
    },
    {
      "cell_type": "code",
      "source": [
        "############################################-1-##################################################\n",
        "\n",
        "def sumar(): #Definimos la función sumar\n",
        "    x = a + b\n",
        "    print ((\"Resultado\"), (x))\n",
        "def restar():#Definimos la función restar\n",
        "    x = a - b\n",
        "    print ((\"Resultado\"), (x))\n",
        "def multiplicar():#Definimos la función multiplicar\n",
        "    x = a * b\n",
        "    print ((\"Resultado\"), (x))\n",
        "def dividir():#Definimos la función dividir\n",
        "    x = a / b\n",
        "    print ((\"Resultado\"), (x))\n",
        "\n",
        "##########################################-2-###################################################\n",
        "while True: #Creamos un bucle\n",
        "    try: #Intentamos obtener los datos de entrada\n",
        "        a = int(input(\"Ingresa el primer numero: \\n\")) #Solicitamos el 1er numero al usuario\n",
        "        b = int(input(\"Ingresa el segundo numero: \\n\"))#Solicitamos el 2do numero al usuario\n",
        "        print ((\"Que calculo quieres realizar entre\"), (a), (\"y\"), (b), (\"?\\n\")) #Preguntamos el calc\n",
        "        op = str(input(\"\"\" #Ofrecemos las opciones de calculo las cuales van a llamar a las funciones\n",
        "        1- Sumar\n",
        "        2- Restar\n",
        "        3- Multiplicar\n",
        "        4- Dividir \\n\"\"\"))\n",
        "    except: #En caso de error:\n",
        "        print (\"Error\")\n",
        "        op = '?'\n",
        "##########################################-3-##################################################\n",
        "    if op == '1':#Si el usuario elige opción 1 llamamos a sumar\n",
        "        sumar()\n",
        "        break\n",
        "    elif op == '2':#Si el usuario elige opción 1 llamamos a restar\n",
        "        restar()\n",
        "        break\n",
        "    elif op == '3':#Si el usuario elige opción 1 llamamos a multiplicar\n",
        "        multiplicar()\n",
        "        break\n",
        "    elif op == '4':#Si el usuario elige opción 1 llamamos a dividir\n",
        "        dividir()\n",
        "        break\n",
        "    else:\n",
        "        print (\"\"\"Has ingresado un numero de opcion erroneo\"\"\") #En caso que el numero no\n",
        "                                                                            #se encuentre"
      ],
      "metadata": {
        "colab": {
          "base_uri": "https://localhost:8080/"
        },
        "id": "-K7QoL7k9JxL",
        "outputId": "b7cafd38-9752-42a8-c1c8-f92642f4d5e6"
      },
      "execution_count": 14,
      "outputs": [
        {
          "output_type": "stream",
          "name": "stdout",
          "text": [
            "Ingresa el primer numero: \n",
            "1\n",
            "Ingresa el segundo numero: \n",
            "4\n",
            "Que calculo quieres realizar entre 1 y 4 ?\n",
            "\n",
            " #Ofrecemos las opciones de calculo las cuales van a llamar a las funciones\n",
            "        1- Sumar\n",
            "        2- Restar\n",
            "        3- Multiplicar\n",
            "        4- Dividir \n",
            "3\n",
            "Resultado 4\n"
          ]
        }
      ]
    }
  ]
}